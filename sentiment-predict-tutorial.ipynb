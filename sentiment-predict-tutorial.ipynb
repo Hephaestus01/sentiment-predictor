{
 "cells": [
  {
   "cell_type": "markdown",
   "id": "8faa0994-9760-4a48-b71b-9f218b963cea",
   "metadata": {},
   "source": [
    "Review Sentiment"
   ]
  },
  {
   "cell_type": "code",
   "execution_count": 12,
   "id": "98bf12a8-9c72-4a34-9996-984d99bd89b0",
   "metadata": {},
   "outputs": [],
   "source": [
    "class Sentiment:\n",
    "    NEGATIVE = \"NEGATIVE\"\n",
    "    NEUTRAL = \"NEUTRAL\"\n",
    "    POSITIVE = \"POSITIVE\"\n",
    "\n",
    "class Review:\n",
    "    def __init__(self, text, score):\n",
    "        self.text = text\n",
    "        self.score = score\n",
    "        self.sentiment = self.get_sentiment()\n",
    "\n",
    "    def get_sentiment(self):\n",
    "        if self.score <= 2:\n",
    "            return Sentiment.NEGATIVE\n",
    "        elif self.score == 3:\n",
    "            return Sentiment.NEUTRAL\n",
    "        else: #Score of 4 or 5\n",
    "            return Sentiment.POSITIVE"
   ]
  },
  {
   "cell_type": "markdown",
   "id": "8aa3814c-2749-42f1-adf9-f5cf624db8e5",
   "metadata": {},
   "source": [
    "Load Data"
   ]
  },
  {
   "cell_type": "code",
   "execution_count": 13,
   "id": "f63cf3fd-8d16-4088-82fa-0593ae65cc31",
   "metadata": {},
   "outputs": [
    {
     "data": {
      "text/plain": [
       "'Love the book, great story line, keeps you entertained.for a first novel from this author she did a great job,  Would definitely recommend!'"
      ]
     },
     "execution_count": 13,
     "metadata": {},
     "output_type": "execute_result"
    }
   ],
   "source": [
    "import json\n",
    "\n",
    "file_name = './books_small.json'\n",
    "\n",
    "reviews = []\n",
    "with open(file_name) as f:\n",
    "    for line in f:\n",
    "        review = json.loads(line)\n",
    "        reviews.append(Review(review['reviewText'], review['overall']))\n",
    "\n",
    "reviews[5].text\n",
    "\n"
   ]
  },
  {
   "cell_type": "markdown",
   "id": "e484c473-546a-4fdd-9706-b331f50b9782",
   "metadata": {},
   "source": [
    "Prep Data"
   ]
  },
  {
   "cell_type": "code",
   "execution_count": 14,
   "id": "0b17ec5d-c160-4ff2-9ed4-3ef0fc6f5891",
   "metadata": {},
   "outputs": [],
   "source": [
    "from sklearn.model_selection import train_test_split\n",
    "\n",
    "training, test = train_test_split(reviews, test_size=0.33, random_state=42)"
   ]
  },
  {
   "cell_type": "code",
   "execution_count": 15,
   "id": "15651e60-4dc7-4713-a099-f034df04ea88",
   "metadata": {},
   "outputs": [],
   "source": [
    "X_train = [x.text for x in training]\n",
    "y_train = [x.sentiment for x in training]\n",
    "\n",
    "X_test = [x.text for x in test]\n",
    "y_test = [x.sentiment for x in test]"
   ]
  },
  {
   "cell_type": "markdown",
   "id": "d6f27231-4217-429a-a404-f427b7523884",
   "metadata": {},
   "source": [
    "Bags of Words Vectorization"
   ]
  },
  {
   "cell_type": "code",
   "execution_count": 16,
   "id": "b7c9f176-9aeb-402f-9cad-4500923e87a0",
   "metadata": {},
   "outputs": [
    {
     "data": {
      "text/plain": [
       "<670x7372 sparse matrix of type '<class 'numpy.int64'>'\n",
       "\twith 41455 stored elements in Compressed Sparse Row format>"
      ]
     },
     "execution_count": 16,
     "metadata": {},
     "output_type": "execute_result"
    }
   ],
   "source": [
    "from sklearn.feature_extraction.text import CountVectorizer\n",
    "\n",
    "vectorizer = CountVectorizer()\n",
    "vectorizer.fit_transform(X_train)\n",
    "\n"
   ]
  },
  {
   "cell_type": "markdown",
   "id": "4deb532d-c212-47d1-a9cc-d24aa6a1eb44",
   "metadata": {},
   "source": []
  }
 ],
 "metadata": {
  "kernelspec": {
   "display_name": "Python 3 (ipykernel)",
   "language": "python",
   "name": "python3"
  },
  "language_info": {
   "codemirror_mode": {
    "name": "ipython",
    "version": 3
   },
   "file_extension": ".py",
   "mimetype": "text/x-python",
   "name": "python",
   "nbconvert_exporter": "python",
   "pygments_lexer": "ipython3",
   "version": "3.12.2"
  }
 },
 "nbformat": 4,
 "nbformat_minor": 5
}
